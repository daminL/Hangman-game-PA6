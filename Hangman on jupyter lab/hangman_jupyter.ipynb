{
 "cells": [
  {
   "cell_type": "markdown",
   "metadata": {},
   "source": [
    "So first things first we want our stuff to print in the right format, we decided to do this, through a variable with choices remaining and a list."
   ]
  },
  {
   "cell_type": "code",
   "execution_count": 1,
   "metadata": {},
   "outputs": [],
   "source": [
    "def poap(choices, listylistylisty):\n",
    "    print('-----------')\n",
    "    print(listylistylisty)\n",
    "    print(str(choices)+\" choices left\")"
   ]
  },
  {
   "cell_type": "markdown",
   "metadata": {},
   "source": [
    "we want it to play again if you want to too"
   ]
  },
  {
   "cell_type": "code",
   "execution_count": 2,
   "metadata": {},
   "outputs": [],
   "source": [
    "def playagain(yes_no):\n",
    "    if ord(yes_no)==89 or ord(yes_no)==121:\n",
    "        return True\n",
    "    else:\n",
    "        return False"
   ]
  },
  {
   "cell_type": "markdown",
   "metadata": {},
   "source": [
    "it returns true only of yes_no is either Y or y,\n",
    "next we want to check if things are valid inputs, \n",
    "they need to be single letters, not guessed before,\n",
    "and can be upper or lower case"
   ]
  },
  {
   "cell_type": "code",
   "execution_count": 6,
   "metadata": {},
   "outputs": [],
   "source": [
    "def cvi(a,bank):\n",
    "    \"check that it is a single input\"\n",
    "    if len(a)==1:\n",
    "        \"check that the input is either an upper or lowercase letter\"\n",
    "        if (ord(a)>=65 and ord(a)<91) or (ord(a)>=97 and ord(a)<123):\n",
    "            \"check that the letter is not in the bank\"\n",
    "            for i in range(len(bank)):\n",
    "                \"for all things in the bank, is the thing entered in the bank\"\n",
    "                if ord(a)==ord(bank[i]) or ord(a)==ord(bank[i])+32 or ord(a)==ord(bank[i])-32:\n",
    "                    \"32 is the difference between upper and lower case characters in html\"\n",
    "                    return False\n",
    "            \"we want a single letter entry, that has not been given before\"\n",
    "            return True\n",
    "        else: \n",
    "            return False\n",
    "    else: \n",
    "        return False"
   ]
  },
  {
   "cell_type": "markdown",
   "metadata": {},
   "source": [
    "So given an input a letter and a word bank it tells us if the input is valid(true) or invalid (false)"
   ]
  },
  {
   "cell_type": "markdown",
   "metadata": {},
   "source": [
    "Now we want to generate a random word"
   ]
  },
  {
   "cell_type": "markdown",
   "metadata": {},
   "source": [
    "So this opens a formatted text file, that it then reads, strips of \\n in this case but could be any non lettered text removed, then it makes a random choice from the list of words in wordbank.txt, that it returns so we can use it."
   ]
  },
  {
   "cell_type": "code",
   "execution_count": 8,
   "metadata": {},
   "outputs": [],
   "source": [
    "import random as rand\n",
    "def generate_random_word():   \n",
    "    with open(\"wordbank.txt\",\"r\") as bank:\n",
    "        mywords=[word.strip() for word in bank]\n",
    "        rw=rand.choice(mywords)\n",
    "        return rw"
   ]
  },
  {
   "cell_type": "markdown",
   "metadata": {},
   "source": [
    "After we generate our random word or rw, we decided to generate a list full of '-' as the entries in the length of the rw. This allowed us ease when printing as well as for keeping track of what letters had been guessed."
   ]
  },
  {
   "cell_type": "code",
   "execution_count": 14,
   "metadata": {},
   "outputs": [],
   "source": [
    "def dash(rw):\n",
    "    l=[]\n",
    "    for r in rw:\n",
    "        l.append('-')\n",
    "    return l"
   ]
  },
  {
   "cell_type": "markdown",
   "metadata": {},
   "source": [
    "finally we need a way to check if something is in a list, to reveal our\n",
    "letters"
   ]
  },
  {
   "cell_type": "markdown",
   "metadata": {},
   "source": [
    "So what this does is it takes in the letter a person guessed, the generated random word, and it takes in the list we generated earlier, that it edits. So if the guessed letter is in that position in the word, the dash in that position is replaced by that letter."
   ]
  },
  {
   "cell_type": "code",
   "execution_count": 15,
   "metadata": {},
   "outputs": [],
   "source": [
    "def reveal(letter,word,listy_list):\n",
    "    for i in range(len(word)):\n",
    "        if ord(word[i])==ord(letter) or ord(word[i])==ord(letter)+32 or ord(word[i])==ord(letter)-32:\n",
    "            listy_list[i]=letter\n",
    "    return listy_list"
   ]
  },
  {
   "cell_type": "markdown",
   "metadata": {},
   "source": [
    "So we need to check that when you reveal all the letters that you win the game."
   ]
  },
  {
   "cell_type": "markdown",
   "metadata": {},
   "source": [
    "What this does is it compares the length of the word, to the amount of letters revealed in our generated list. "
   ]
  },
  {
   "cell_type": "code",
   "execution_count": 17,
   "metadata": {},
   "outputs": [],
   "source": [
    "def win_checker(word,l):\n",
    "    length=len(word)\n",
    "    counter=0\n",
    "    for i in range(len(l)):\n",
    "        if (ord(l[i])>=65 and ord(l[i])<91) or (ord(l[i])>=97 and ord(l[i])<123):\n",
    "            \"if letter\"\n",
    "            counter+=1\n",
    "    if counter==length:\n",
    "        return True\n",
    "    else:\n",
    "        return False"
   ]
  },
  {
   "cell_type": "markdown",
   "metadata": {},
   "source": [
    "We realized at this point that we needed something that did a simple check for if the guessed letter was in the word or not"
   ]
  },
  {
   "cell_type": "markdown",
   "metadata": {},
   "source": [
    "if letter in word ==true if not false"
   ]
  },
  {
   "cell_type": "code",
   "execution_count": 19,
   "metadata": {},
   "outputs": [],
   "source": [
    "def guessLetter(rw, ans):\n",
    "    for w in range(len(rw)):\n",
    "        if ord(rw[w])==ord(ans) or ord(rw[w])==ord(ans)+32 or ord(rw[w])==ord(ans)-32:\n",
    "            \"print('Done')\"\n",
    "            return True\n",
    "    else:\n",
    "        return False"
   ]
  },
  {
   "cell_type": "markdown",
   "metadata": {},
   "source": [
    "Reallized we needed a unique inout checker for the yes\\no to continue playing at the end as well."
   ]
  },
  {
   "cell_type": "markdown",
   "metadata": {},
   "source": [
    "checks for upper and lowercase y and n's"
   ]
  },
  {
   "cell_type": "code",
   "execution_count": 21,
   "metadata": {},
   "outputs": [],
   "source": [
    "def cvi1(a):\n",
    "    if len(a)==1:\n",
    "        if ord(a)==89 or ord(a)==121 or ord(a)==78 or ord(a)==110:\n",
    "            return True\n",
    "        else:\n",
    "            return False\n",
    "    else:\n",
    "        return False"
   ]
  },
  {
   "cell_type": "markdown",
   "metadata": {},
   "source": [
    "And finally here's the game using all the parts we have made thus far"
   ]
  },
  {
   "cell_type": "code",
   "execution_count": 22,
   "metadata": {},
   "outputs": [],
   "source": [
    "def play_hangman():\n",
    "    valid_input_check=False\n",
    "    \"setting up a while loop for a valid input letter\"\n",
    "    want_to_play=True\n",
    "    \"overall while loop for continued play\"\n",
    "    while want_to_play:\n",
    "        rw=generate_random_word()\n",
    "        \"print(rw)\"\n",
    "        word=rw\n",
    "        \"generate random word basically\"\n",
    "        l=dash(rw)\n",
    "        won=False\n",
    "        \"need a var for winning\"\n",
    "        choices=6\n",
    "        bank=[]\n",
    "        \"we need print thing for a blank, bank right here\"\n",
    "        while not won and choices>0:\n",
    "            \"comment so basically this is a check for if you have won(reveal) lost(choices)\"\n",
    "            valid_input_check=False\n",
    "            \"checks if letter is a valid entry\"\n",
    "            poap(choices,l)\n",
    "            while not valid_input_check:\n",
    "                    \"while it's false pick a letter, check if its valid\"\n",
    "                    letter=input(\"pick a letter:\")\n",
    "                    \"if not valid have them try inputting again\"\n",
    "                    if cvi(letter,bank):\n",
    "                        \"checks that it is a single unguessed letter\"\n",
    "                        bank.append(letter)\n",
    "                        \"if so add it to the bank\"\n",
    "                        if guessLetter(word,letter):\n",
    "                            \"check letter in word function\"\n",
    "                            l=reveal(letter,word,l)\n",
    "                            \"print formatted thing\"\n",
    "                            if win_checker(word,l):\n",
    "                                won=True\n",
    "                                valid_input_check=True\n",
    "                            else:\n",
    "                                won=False\n",
    "                                valid_input_check=True\n",
    "                        else:\n",
    "                            valid_input_check=True\n",
    "                            choices-=1\n",
    "                            \"Print formatted stuff\"            \n",
    "                    else:\n",
    "                        print(\"I'm sorry that was not a valid letter please try again, you also may have entered the letter before\")\n",
    "                        valid_input_check=False\n",
    "                        \"if it's not valid then ask for it again\"\n",
    "        play_again_input_check=True\n",
    "        \"checks for valid input when display says play again\"\n",
    "        if not won:\n",
    "            \"once you end either by guessing all letters or losing all choices\"\n",
    "            \"check how much of word revealed, if not all revealed they lose\"\n",
    "            print(\"You lost\")\n",
    "        else:\n",
    "            print(\"You won\")\n",
    "            \"otherwise they win\"\n",
    "        while play_again_input_check:\n",
    "            yes_no=input(\"want to play again yes, no? y or n:\")\n",
    "            if cvi1(yes_no):\n",
    "                \"check if input is a single letter and y or n\"\n",
    "                if playagain(yes_no):\n",
    "                    \"play another round or not\"\n",
    "                    play_again_input_check=False\n",
    "                    want_to_play=True\n",
    "                    \"restarts the game\"\n",
    "                else:\n",
    "                    want_to_play=False\n",
    "                    play_again_input_check=False\n",
    "                    \"ends game\"\n",
    "            else:\n",
    "                print(\"invalid input please enter either y or n\")\n",
    "                play_again_input_check=True\n",
    "                \"invalid input\"\n",
    "    print(\"hope you had a fun time playing\")"
   ]
  },
  {
   "cell_type": "markdown",
   "metadata": {},
   "source": [
    "So that was a monster but now you can play it"
   ]
  },
  {
   "cell_type": "code",
   "execution_count": 24,
   "metadata": {},
   "outputs": [
    {
     "name": "stdout",
     "output_type": "stream",
     "text": [
      "-----------\n",
      "['-', '-', '-', '-', '-', '-']\n",
      "6 choices left\n",
      "pick a letter:a\n",
      "-----------\n",
      "['-', '-', 'a', '-', '-', '-']\n",
      "6 choices left\n",
      "pick a letter:e\n",
      "-----------\n",
      "['-', 'e', 'a', '-', '-', 'e']\n",
      "6 choices left\n",
      "pick a letter:i\n",
      "-----------\n",
      "['-', 'e', 'a', '-', '-', 'e']\n",
      "5 choices left\n",
      "pick a letter:o\n",
      "-----------\n",
      "['-', 'e', 'a', '-', '-', 'e']\n",
      "4 choices left\n",
      "pick a letter:u\n",
      "-----------\n",
      "['-', 'e', 'a', '-', 'u', 'e']\n",
      "4 choices left\n",
      "pick a letter:l\n",
      "-----------\n",
      "['l', 'e', 'a', '-', 'u', 'e']\n",
      "4 choices left\n",
      "pick a letter:g\n",
      "You won\n",
      "want to play again yes, no? y or n:y\n",
      "-----------\n",
      "['-', '-', '-', '-', '-', '-', '-']\n",
      "6 choices left\n",
      "pick a letter:f\n",
      "-----------\n",
      "['-', '-', '-', '-', '-', '-', '-']\n",
      "5 choices left\n",
      "pick a letter:d\n",
      "-----------\n",
      "['d', '-', '-', '-', '-', '-', '-']\n",
      "5 choices left\n",
      "pick a letter:d\n",
      "I'm sorry that was not a valid letter please try again, you also may have entered the letter before\n",
      "pick a letter:d\n",
      "I'm sorry that was not a valid letter please try again, you also may have entered the letter before\n",
      "pick a letter:f\n",
      "I'm sorry that was not a valid letter please try again, you also may have entered the letter before\n",
      "pick a letter:g\n",
      "-----------\n",
      "['d', '-', '-', 'g', '-', '-', '-']\n",
      "5 choices left\n",
      "pick a letter:h\n",
      "-----------\n",
      "['d', '-', '-', 'g', '-', '-', '-']\n",
      "4 choices left\n",
      "pick a letter:j\n",
      "-----------\n",
      "['d', '-', '-', 'g', '-', '-', '-']\n",
      "3 choices left\n",
      "pick a letter:k\n",
      "-----------\n",
      "['d', '-', '-', 'g', '-', '-', '-']\n",
      "2 choices left\n",
      "pick a letter:l\n",
      "-----------\n",
      "['d', '-', '-', 'g', '-', '-', '-']\n",
      "1 choices left\n",
      "pick a letter:;\n",
      "I'm sorry that was not a valid letter please try again, you also may have entered the letter before\n",
      "pick a letter:q\n",
      "You lost\n",
      "want to play again yes, no? y or n:n\n",
      "hope you had a fun time playing\n"
     ]
    }
   ],
   "source": [
    "play_hangman()"
   ]
  },
  {
   "cell_type": "code",
   "execution_count": null,
   "metadata": {},
   "outputs": [],
   "source": []
  }
 ],
 "metadata": {
  "kernelspec": {
   "display_name": "Python 3",
   "language": "python",
   "name": "python3"
  },
  "language_info": {
   "codemirror_mode": {
    "name": "ipython",
    "version": 3
   },
   "file_extension": ".py",
   "mimetype": "text/x-python",
   "name": "python",
   "nbconvert_exporter": "python",
   "pygments_lexer": "ipython3",
   "version": "3.7.3"
  }
 },
 "nbformat": 4,
 "nbformat_minor": 2
}
